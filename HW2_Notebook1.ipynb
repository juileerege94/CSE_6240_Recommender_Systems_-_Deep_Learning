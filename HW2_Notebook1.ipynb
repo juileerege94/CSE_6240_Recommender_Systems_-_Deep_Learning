{
 "cells": [
  {
   "cell_type": "code",
   "execution_count": 1,
   "metadata": {
    "collapsed": true
   },
   "outputs": [],
   "source": [
    "import pandas as pd\n",
    "import numpy as np\n",
    "import matplotlib.pyplot as plt\n",
    "import math"
   ]
  },
  {
   "cell_type": "code",
   "execution_count": 16,
   "metadata": {
    "collapsed": true
   },
   "outputs": [],
   "source": [
    "####################################################  Defining Functions  #######################################################\n",
    "\n",
    "def get_pred_value(i, j):\n",
    "    ratings = []\n",
    "    similar = []\n",
    "    for k in range(0, 1682):\n",
    "        if((ua_base[i][k]!=0) & (k!=j)):\n",
    "            ratings.append(ua_base[i][k])\n",
    "            similar.append(sim[k][j])\n",
    "    similar, ratings = (list(t) for t in zip(*sorted(zip(similar, ratings))))\n",
    "    similar.reverse()\n",
    "    ratings.reverse()\n",
    "    return ratings, similar\n",
    "\n",
    "def get_user_rmse(pred):\n",
    "    user_rmse = [0]*943\n",
    "    user_count = [0]*943\n",
    "    for user in range(0,943):\n",
    "        total = 0\n",
    "        count = 0\n",
    "        for rat in range(0,1682):\n",
    "            if(pred[user][rat]!=0):\n",
    "                count = count + 1\n",
    "                total += (pred[user][rat]-ua_test[user][rat]) * (pred[user][rat]-ua_test[user][rat])\n",
    "        if(count!=0):\n",
    "            user_rmse[user] = total\n",
    "            user_count[user] = count\n",
    "    return user_rmse,user_count\n",
    "\n",
    "def get_plotting(user_avg_rating, user_rmse, user_count):\n",
    "    plotting = [0]*5\n",
    "    for i in range(0,5):\n",
    "        total_rmse = 0\n",
    "        count_rmse = 0\n",
    "        for j in range(0,943):\n",
    "            if((user_avg_rating[j]>=bins[i]) & (user_avg_rating[j]<bins[i+1])):\n",
    "                total_rmse += user_rmse[j]\n",
    "                count_rmse = count_rmse + user_count[j]\n",
    "        plotting[i] = (float)(total_rmse) / (float)(count_rmse)\n",
    "    return plotting\n",
    "\n",
    "def getSimForK(k, ua_test, total_ct):\n",
    "    predict = np.zeros((943, 1682), dtype=np.int)\n",
    "    numerator = 0\n",
    "    for i in range(0, 943):\n",
    "        for j in range(0, 1682):\n",
    "            if(ua_test[i][j]!=0):\n",
    "                ratings, similar = get_pred_value(i, j)\n",
    "                num = 0\n",
    "                denom = 0\n",
    "                for t in range(0, k):\n",
    "                    num += (ratings[t]*similar[t])\n",
    "                    denom+= similar[t]\n",
    "                if(denom!=0):\n",
    "                    predict[i][j] = num/denom\n",
    "                numerator+= (ua_test[i][j]- predict[i][j])**2\n",
    "    err = float(numerator/total_ct)\n",
    "    rmse = math.sqrt(err)\n",
    "    return predict, rmse"
   ]
  },
  {
   "cell_type": "code",
   "execution_count": 3,
   "metadata": {
    "collapsed": true
   },
   "outputs": [],
   "source": [
    "#################################################  Part 1: Plotting Histograms ##################################################"
   ]
  },
  {
   "cell_type": "code",
   "execution_count": 4,
   "metadata": {
    "collapsed": true
   },
   "outputs": [],
   "source": [
    "#################################################  Preprocessing the matrices  ##################################################\n",
    "\n",
    "col_names = ['userid', 'itemid', 'rating', 'timestamp']\n",
    "\n",
    "#reading u_data\n",
    "u_df = pd.read_csv(\"data/u.data\", sep='\\t', header = None, names = col_names)\n",
    "u_df['item_freq'] = u_df.groupby('itemid')['itemid'].transform('count')\n",
    "u_df['user_freq'] = u_df.groupby('userid')['userid'].transform('count')\n",
    "\n",
    "u_data = np.zeros((943, 1682), dtype=np.int)\n",
    "hist1 = np.zeros(1682, dtype=np.int)\n",
    "hist2 = np.zeros(943, dtype=np.int)\n",
    "\n",
    "#preprocess matrix\n",
    "for row in u_df.itertuples():\n",
    "    u_data[getattr(row, \"userid\")-1][getattr(row, \"itemid\")-1] = getattr(row, \"rating\")\n",
    "    hist1[getattr(row, \"itemid\")-1] = getattr(row, \"item_freq\")\n",
    "    hist2[getattr(row, \"userid\")-1] = getattr(row, \"user_freq\")"
   ]
  },
  {
   "cell_type": "code",
   "execution_count": 23,
   "metadata": {
    "collapsed": false
   },
   "outputs": [
    {
     "name": "stdout",
     "output_type": "stream",
     "text": [
      "Histogram of number of ratings for a movie (10 Bins)\n"
     ]
    },
    {
     "data": {
      "image/png": "[encoded data removed]",
      "text/plain": [
       "<matplotlib.figure.Figure at 0x109591a20>"
      ]
     },
     "metadata": {},
     "output_type": "display_data"
    }
   ],
   "source": [
    "#################################### Histogram of number of ratings for a movie  ################################################\n",
    "\n",
    "print (\"Histogram of number of ratings for a movie (10 Bins)\")\n",
    "plt.hist(hist1, bins=10)\n",
    "plt.title(\"Number of ratings for a movie (10 Bins)\")\n",
    "plt.xlabel(\"Number of Ratings (Bins)\")\n",
    "plt.ylabel(\"Number of Movies\")\n",
    "plt.show()"
   ]
  },
  {
   "cell_type": "code",
   "execution_count": 22,
   "metadata": {
    "collapsed": false
   },
   "outputs": [
    {
     "name": "stdout",
     "output_type": "stream",
     "text": [
      "Histogram of number of ratings by a user (10 Bins)\n"
     ]
    },
    {
     "data": {
      "image/png": "[encoded data removed]",
      "text/plain": [
       "<matplotlib.figure.Figure at 0x10a5dd390>"
      ]
     },
     "metadata": {},
     "output_type": "display_data"
    }
   ],
   "source": [
    "#################################### Histogram of number of ratings by a user  ##################################################\n",
    "\n",
    "print (\"Histogram of number of ratings by a user (10 Bins)\")\n",
    "plt.hist(hist2, bins=10)\n",
    "plt.title(\"Number of ratings by a user (10 Bins)\")\n",
    "plt.xlabel(\"Number of Ratings (Bins)\")\n",
    "plt.ylabel(\"Number of Users\")\n",
    "plt.show()"
   ]
  },
  {
   "cell_type": "code",
   "execution_count": 7,
   "metadata": {
    "collapsed": true
   },
   "outputs": [],
   "source": [
    "#################################################  Part 2: Building Baseline Predictor  #########################################"
   ]
  },
  {
   "cell_type": "code",
   "execution_count": 8,
   "metadata": {
    "collapsed": true
   },
   "outputs": [],
   "source": [
    "################################################  Reading in Dataset  ###########################################################\n",
    "\n",
    "ua_df = pd.read_csv(\"data/ua.base\", sep='\\t', header = None, names = col_names)\n",
    "ua_base = np.zeros((943, 1682), dtype=np.int)\n",
    "for row in ua_df.itertuples():\n",
    "    ua_base[getattr(row, \"userid\")-1][getattr(row, \"itemid\")-1] = getattr(row, \"rating\")\n",
    "\n",
    "ua_test_df = pd.read_csv(\"data/ua.test\", sep='\\t', header = None, names = col_names)\n",
    "ua_test = np.zeros((943, 1682), dtype=np.int)\n",
    "for row in ua_test_df.itertuples():\n",
    "    ua_test[getattr(row, \"userid\")-1][getattr(row, \"itemid\")-1] = getattr(row, \"rating\")"
   ]
  },
  {
   "cell_type": "code",
   "execution_count": 9,
   "metadata": {
    "collapsed": false
   },
   "outputs": [
    {
     "name": "stdout",
     "output_type": "stream",
     "text": [
      "mu is:  3.5238268742409184\n",
      "\n",
      "b_i is:  [ 0.31573109 -0.26974693 -0.35932077 ..., -0.05860873 -0.02014719\n",
      " -0.02014719]\n",
      "\n",
      "b_u is:  [  3.26864277e-02   8.64060732e-02  -4.02616257e-01   5.44404006e-01\n",
      "  -4.75947061e-01  -1.47669361e-01   3.86616283e-01   2.16698233e-01\n",
      "   2.56949313e-01   4.06455020e-01  -9.09755207e-02   4.45693890e-01\n",
      "  -3.68535638e-01   3.01317599e-01  -4.29056722e-01   6.00051340e-01\n",
      "  -2.75261762e-01   1.32911185e-01   2.37070311e-02  -3.34028566e-01\n",
      "  -5.57284723e-01  -8.23048685e-02  -5.60251003e-02   5.21022016e-01\n",
      "   1.41749784e-01  -4.63826674e-01  -1.09868252e-01   1.27608827e-01\n",
      "   1.87175806e-01   2.30957095e-01   1.48405194e-01  -2.05877041e-01\n",
      "   2.43640648e-01   2.57593283e-01  -1.14740109e-01   4.13211601e-01\n",
      "   1.37581748e-01   3.55743506e-01   1.60795032e-01  -5.23970461e-01\n",
      "  -3.69065662e-02   1.39211190e-01   1.44296283e-01  -2.57873595e-02\n",
      "   1.88189813e-01   2.99548345e-01   6.72333297e-02  -6.22197456e-02\n",
      "  -7.40510949e-01   5.14245941e-02  -1.53995521e-01   5.43151556e-01\n",
      "   1.77606450e-01   1.97234977e-01   7.13635656e-02   1.32679389e-01\n",
      "   6.72747424e-02   8.70719651e-02   3.18851954e-01   3.05505709e-01\n",
      "  -3.86459605e-01  -2.66839984e-01  -3.81675358e-01  -8.92867899e-02\n",
      "   1.75175256e-01  -5.20119248e-02   2.47512370e-01  -3.09323112e-01\n",
      "   1.40771739e-01  -1.05065276e-01  -1.52495203e-01   8.59124086e-02\n",
      "  -5.70499992e-02   5.36881466e-02  -2.49853399e-02  -1.70506260e-01\n",
      "  -2.48960450e-01   2.24493832e-02   3.44362100e-01   1.15186324e-02\n",
      "  -1.20671655e-01  -4.50090983e-01   1.49094509e-02   2.05962315e-01\n",
      "  -1.33557130e-01   1.08316072e-01   2.92336291e-01   3.03753842e-01\n",
      "   3.61325486e-01   4.82593369e-01   1.26669056e-01  -1.72448206e-01\n",
      "  -3.70657957e-01   1.42108638e-01  -1.28605768e-01   2.29964693e-01\n",
      "   1.60865706e-01   1.02717169e-02   1.09232534e-01  -2.76650785e-01\n",
      "  -3.26036554e-01  -8.00925509e-01  -1.18943461e-01  -6.70734631e-01\n",
      "  -2.26315696e-01   2.10379301e-02  -3.53782389e-01   7.77966144e-02\n",
      "   1.04092860e-02  -2.96476144e-01  -4.86170938e-02   2.14551811e-01\n",
      "   1.20893050e-01  -2.68503978e-01   1.50664945e-01  -4.92570654e-01\n",
      "   3.78350173e-01   8.17688608e-01   3.73832555e-01  -5.91791212e-02\n",
      "  -4.24627067e-02   2.12459653e-01  -9.97874108e-03  -2.68377409e-01\n",
      "  -8.36221823e-02   9.53581429e-02   4.73277275e-01   1.71091370e-02\n",
      "  -5.79499615e-01   5.90584872e-01   2.89833745e-01  -1.37936040e-01\n",
      "  -2.22937361e-01   9.42444355e-02  -6.15785745e-02   4.36167916e-01\n",
      "   6.09119134e-01   3.13889365e-01   1.59616092e-01   1.01781411e-01\n",
      "   2.20023196e-02   3.98358298e-03   6.37234985e-02  -3.40487925e-03\n",
      "  -1.51981400e-02   1.20586666e-01   3.39810358e-01   2.02036220e-01\n",
      "  -3.81344393e-01   2.89737724e-01   3.01585626e-01   7.79699045e-01\n",
      "  -3.94222654e-01   1.48990850e-01  -4.07080994e-01  -1.22357240e-01\n",
      "   2.99323765e-01   2.38463642e-01   1.10039038e-01   2.26652907e-01\n",
      "  -1.03053967e+00  -7.09213271e-03  -3.74735352e-01   6.39107251e-01\n",
      "   1.48707921e-01   1.43831623e-03  -8.98148667e-02  -5.14261889e-02\n",
      "   1.52355208e-01   2.09599795e-01  -1.51861630e-01  -4.23209556e-01\n",
      "   5.84613762e-01   1.63717457e-01   5.10278021e-03   1.68681669e-01\n",
      "  -3.02021346e-02   1.17224502e-01  -4.66940296e-01   2.93554126e-01\n",
      "  -1.76773897e+00   8.75543301e-02  -2.46914957e-01   3.15788464e-02\n",
      "   1.46653934e-01  -1.19813130e-02   2.31838386e-01   8.50400121e-02\n",
      "   2.05635925e-01  -5.34975875e-02   3.81643881e-02  -7.10615624e-02\n",
      "  -2.72622791e-01  -6.06399871e-01  -1.63482607e-01  -9.68562399e-02\n",
      "  -1.63569405e-01  -3.46403310e-01  -3.87249905e-01   5.22289565e-01\n",
      "  -5.19484993e-01  -6.22496589e-01  -6.76096300e-02  -6.23788350e-02\n",
      "  -3.44017201e-01  -1.10388622e+00  -3.46358715e-01   2.63012764e-02\n",
      "  -1.86233583e-01   3.28844681e-01  -2.95585007e-01   1.49510633e-01\n",
      "   5.32094808e-01   1.09412979e-01  -2.15695759e-02   1.46733151e-01\n",
      "  -4.46162546e-01  -1.28001308e-01   2.67955594e-01   2.07882413e-01\n",
      "   9.10912459e-02  -3.55603560e-01  -2.48801970e-01  -4.47153666e-01\n",
      "   4.68021497e-01  -2.84647914e-02  -7.93696823e-02  -3.42027125e-01\n",
      "  -2.55741330e-01   1.11054386e-01   6.30697435e-02   4.79160685e-02\n",
      "   4.81803802e-01  -4.97793157e-01   1.27233744e-01  -2.56333560e-01\n",
      "   1.01495312e-01  -3.88216338e-02   3.41900165e-01   4.95374211e-02\n",
      "  -1.08927731e-01   3.68071919e-01  -7.82364331e-03   1.87608763e-01\n",
      "  -1.45844728e-02  -4.74891272e-01   1.00256100e-01  -1.55146950e-01\n",
      "   4.19744085e-01   1.95455818e-01   1.66842568e-01   4.82180866e-01\n",
      "   2.11843387e-01  -3.97484794e-01  -5.79319087e-01   5.87103476e-01\n",
      "   3.14024933e-01   2.32205787e-01   2.20295455e-01   4.70507003e-01\n",
      "   4.90231650e-01  -3.56199382e-01   2.48317161e-01   5.41011816e-01\n",
      "   1.66049903e-01  -2.50738860e-01   3.96515313e-01  -4.77331389e-01\n",
      "  -5.69043696e-01   7.63717005e-01  -9.62451960e-02   3.59802984e-01\n",
      "  -1.15467983e-01   4.23778112e-01  -4.30547236e-01   4.79328748e-02\n",
      "  -1.35941816e-01   2.65828442e-01  -1.45483486e-01   1.17997399e-01\n",
      "  -2.41886560e-02  -8.22841431e-03   3.91741174e-01   9.79629525e-02\n",
      "   1.97110783e-02   2.12178102e-01   4.14876881e-01   9.34790588e-02\n",
      "  -4.18077196e-01  -2.08874010e-01   2.76870307e-01   4.11418330e-01\n",
      "  -5.17560038e-01   1.23019354e-01   6.27291499e-01   3.62198889e-01\n",
      "  -2.17940404e-01   2.91256171e-01  -1.79304709e-01   1.91004916e-01\n",
      "   1.49048879e-02  -3.30062408e-01  -6.55769701e-02  -1.50191218e-02\n",
      "  -3.18781108e-01   3.30231461e-02   1.48287961e-01   1.08350804e-01\n",
      "   1.46592908e-01   2.02823871e-02   1.85166034e-01   5.51709680e-01\n",
      "  -4.53944667e-02   3.08286115e-01   2.84241144e-01  -4.62363732e-01\n",
      "   2.08612047e-01   1.33358804e-01  -5.56169319e-02   2.97252786e-01\n",
      "  -9.76585125e-02   1.44922494e-01   4.61395437e-02   7.71310561e-01\n",
      "  -2.79695328e-01  -3.55711960e-01  -3.17950817e-01  -1.23302169e-01\n",
      "  -2.86896960e-01   8.20368921e-01  -3.48729629e-02   6.99751532e-01\n",
      "  -2.67895656e-02  -9.32732529e-02   6.78128312e-02  -3.06356722e-01\n",
      "   3.26185865e-01   1.89333237e-01   3.51608716e-01   2.01124114e-01\n",
      "   4.02626378e-01  -1.63570614e-01   3.44381743e-01   3.60082668e-02\n",
      "   8.47760097e-02  -1.67883083e-01   2.42541028e-02   4.84298630e-01\n",
      "  -4.37037569e-02   3.16467002e-01   6.78475394e-01   1.99276033e-03\n",
      "  -2.20840781e-01   1.30156261e-03   4.87238036e-01  -7.47794053e-02\n",
      "   7.62067228e-01   8.21470431e-02   2.79791608e-01   1.42825749e-01\n",
      "   8.80658220e-02   4.38387537e-02  -4.52134531e-01   1.02252800e-01\n",
      "  -1.07544887e-01   6.39984797e-01   5.84708811e-01  -9.64919408e-02\n",
      "   2.71139440e-01  -1.14286602e-01   2.59835163e-01   6.76381902e-01\n",
      "   1.03852974e-01  -1.25950440e-01   1.80184604e-01  -9.00236887e-02\n",
      "   2.68893078e-01  -7.25957522e-02   3.00782457e-01  -5.26043454e-01\n",
      "   1.54190889e-01  -1.43659970e-01   4.43025940e-01   3.37263774e-01\n",
      "  -3.72908317e-01   2.50775510e-01  -2.33090354e-01   5.62703703e-01\n",
      "   6.91070152e-02   5.46966461e-02  -2.27720902e-02   2.85372376e-01\n",
      "  -4.55773528e-02   3.47203039e-01   1.90925425e-01   3.24991103e-02\n",
      "   3.33689034e-02  -5.86426887e-03  -4.96571378e-01   2.56674400e-02\n",
      "  -5.26898969e-01   1.49479453e-01   9.84893715e-02  -1.17379091e-01\n",
      "  -1.58356260e+00  -1.20787776e-01  -1.45065988e-01   1.82030432e-01\n",
      "  -9.91128658e-02  -2.35121869e-01  -1.85381897e-02   1.29887793e-01\n",
      "   5.25971320e-02   3.24505487e-01   2.54568318e-01   3.58083440e-01\n",
      "  -2.00235218e-01  -2.49765756e-01   1.52786614e-01   2.35705136e-01\n",
      "  -5.23035694e-02  -2.54276163e-04   2.94373900e-02  -1.82441173e-01\n",
      "  -5.18357646e-01  -5.53460063e-02   7.89135213e-01   4.35149543e-01\n",
      "  -1.67123516e-01  -1.53495194e-01  -3.08412177e-02   1.64279067e-01\n",
      "  -1.60959509e-01   2.36659524e-01  -1.23148900e-01   2.52264254e-01\n",
      "  -5.83047876e-02   3.83806583e-01   1.04991275e-01   5.80066885e-01\n",
      "   7.63775209e-02  -2.94968655e-01  -1.36232250e-01   5.12749970e-02\n",
      "  -1.42346988e+00  -3.26424351e-01   1.25930284e-02  -1.52073377e-01\n",
      "   1.37349352e-01   3.11518097e-01  -4.46905972e-01  -2.55766575e-01\n",
      "  -2.01244480e-01  -6.97829148e-01  -1.08316129e-01  -1.07944911e-01\n",
      "   4.80966661e-01  -4.07374384e-02   2.53045575e-02  -1.59644928e-01\n",
      "  -1.74647121e-01   3.62583713e-01  -5.13197660e-01   3.68778483e-01\n",
      "  -3.79023285e-01  -5.27749460e-02   3.36710998e-02   2.95659695e-01\n",
      "   5.11840620e-01   1.22243122e-02  -1.87354315e-02   8.17192102e-01\n",
      "   1.74865484e-01   3.56725057e-01  -2.72252699e-01  -5.14280390e-02\n",
      "   7.70216203e-01  -1.68439414e-01  -2.06540912e-01  -1.62838961e-01\n",
      "   2.24417821e-01  -1.20758314e-01  -4.38964126e-01   3.74317669e-01\n",
      "  -2.57281783e-01  -2.15147933e-01   1.19262697e-01  -3.62182600e-01\n",
      "   4.44781722e-01  -5.78480252e-01  -1.04822212e-01  -3.21930163e-01\n",
      "   6.25493539e-02   6.68423863e-02   4.37378851e-01  -4.90549251e-01\n",
      "  -2.02420040e-01  -4.43219186e-01   8.67234402e-02  -1.80809975e-01\n",
      "   2.84050624e-01  -1.43725635e-02   2.72609721e-01   1.25527320e-01\n",
      "  -2.47285650e-01   9.63059170e-02   1.02749716e+00   5.33558832e-02\n",
      "  -6.06946157e-01  -1.14027127e-01   3.75575650e-01   3.10675893e-01\n",
      "   5.33296986e-01   9.88599814e-02  -2.63515918e-01   1.56471757e-01\n",
      "  -1.75929617e-01   2.67923931e-01   5.69024880e-01   3.64468220e-04\n",
      "  -4.26838907e-01   3.41125147e-01   6.71016111e-01  -1.22337757e-01\n",
      "  -1.62550165e-01  -2.94182082e-01  -7.26907557e-03   5.62468061e-02\n",
      "   2.52690122e-01   1.12105052e-01  -1.70067857e-02   6.15652170e-01\n",
      "  -1.87941535e-01   6.48918760e-01   1.86684188e-01   2.02052202e-01\n",
      "  -7.22995745e-01  -2.14457494e-01   1.05670348e-01   2.04115049e-01\n",
      "   1.31351885e-01  -1.06071215e-01  -1.24651019e-01  -3.86947642e-01\n",
      "   1.51164914e-02   4.25117483e-01   5.06214035e-02   1.27781191e-01\n",
      "   1.34087837e-01   2.91413287e-01   3.05185065e-01  -2.51353761e-01\n",
      "   2.60781890e-01  -2.27342094e-02   3.53763826e-01   2.29240239e-01\n",
      "   1.87837018e-01   7.69151880e-02  -1.21119498e-01  -1.11173137e-01\n",
      "  -5.66556260e-01  -1.78633483e-01   1.85281098e-01  -6.14750422e-02\n",
      "   4.53829263e-01  -1.51777787e-01   9.52553418e-02  -4.14982590e-01\n",
      "  -1.84390841e-02  -3.69886913e-01  -3.40507365e-01  -1.09411669e-01\n",
      "  -1.28092781e-01  -7.42231986e-03  -3.97516733e-01  -1.30872935e-01\n",
      "   2.60006194e-01  -3.79701301e-01  -2.06381492e-01   1.45454832e-01\n",
      "   2.64981838e-01  -1.55231100e-01   4.92485362e-01   8.08926964e-02\n",
      "   7.02891961e-02  -1.18794639e-01  -2.38549492e-01   2.15347884e-01\n",
      "   1.44527042e-01  -1.42565310e-01  -5.17551146e-02   2.44591803e-01\n",
      "   4.52814287e-02  -1.01287434e-01  -1.32436642e-01   8.22190708e-02\n",
      "   1.11823750e-01   2.13134090e-02   4.31519890e-01   1.25106558e-01\n",
      "  -4.67834966e-01   2.19506443e-01   1.67652824e-01  -8.38798543e-02\n",
      "   6.86346384e-02   3.34767698e-01   2.47655551e-02  -6.43085192e-02\n",
      "  -6.27683298e-01  -1.16427457e-01   2.25974292e-01  -1.24034100e-01\n",
      "   3.35632943e-01  -1.00372770e-01   1.69094549e-01   9.66916130e-02\n",
      "  -8.07715125e-01  -3.45215586e-01   2.88879342e-02   4.05542367e-01\n",
      "   1.82286435e-01  -1.09655564e-01  -6.53481342e-02   7.46714694e-02\n",
      "  -3.11052801e-01  -7.08698907e-01  -2.56542197e-01   7.04858603e-01\n",
      "   3.36238051e-01  -1.51314090e-01  -2.01220121e-01  -4.84087323e-02\n",
      "  -2.28066263e-01  -7.24753010e-02  -1.09107565e-01   4.51222748e-01\n",
      "  -8.85280199e-01  -1.24605226e-01  -7.63367350e-01   5.59877277e-01\n",
      "   1.94797909e-01   2.56961999e-01   1.08147271e-01   4.22360578e-01\n",
      "   1.67018545e-01  -2.65187673e-01   1.95933455e-01  -1.94090113e-01\n",
      "   1.86446904e-01  -4.27280597e-01  -1.38044973e-01  -1.67583587e-01\n",
      "  -7.91684891e-01   5.48484451e-02  -6.28549027e-01  -5.66565709e-01\n",
      "  -3.23800188e-01  -5.29746119e-02   6.58953436e-02  -8.65905008e-01\n",
      "   1.27255542e-01   2.25999705e-01  -1.83654110e-02   1.17737645e-02\n",
      "  -9.56170812e-02  -5.15035708e-02   9.07568967e-02   5.27591810e-02\n",
      "  -3.64237455e-01  -3.01030325e-02   8.02484139e-02  -1.41092106e-01\n",
      "   5.68652722e-02   7.74447858e-02  -1.38660169e-01  -6.89713841e-02\n",
      "   2.90972832e-01  -2.08244618e-01  -6.68344998e-02   2.09684165e-01\n",
      "  -1.01175988e-01  -3.06575188e-01  -1.90651914e-01  -8.48935510e-04\n",
      "  -5.80440164e-01   5.58214417e-01   3.72376092e-02   9.40067988e-01\n",
      "   2.70332565e-01  -3.40362081e-01   3.91305202e-01  -7.87510349e-02\n",
      "  -5.46263094e-01   3.51085393e-01  -8.20469773e-02   1.19117728e-01\n",
      "   2.89915663e-01  -9.43534472e-01  -2.44487609e-01  -2.07623425e-01\n",
      "   3.33641473e-01  -5.72418360e-01   2.23444700e-02  -2.90914043e-02\n",
      "   1.79740843e-01  -4.64787335e-02  -1.21007417e-01  -1.26485718e-01\n",
      "   8.68426171e-02  -6.59177755e-02   2.47426417e-01   2.30412756e-01\n",
      "  -4.53607948e-01   1.45021571e-01  -1.36866498e-01   1.77587135e-01\n",
      "   2.06654067e-01   3.35161144e-01  -4.96410652e-01   2.90002424e-01\n",
      "   6.76640085e-02   2.44614928e-01  -1.85270239e-01  -9.74347338e-01\n",
      "   3.87618479e-01  -1.65808936e-01  -3.63466990e-01   9.22745449e-03\n",
      "  -3.72719007e-01  -3.28894462e-01  -3.54328229e-01   3.58798266e-01\n",
      "  -4.05895973e-01  -1.84593835e-01  -2.68987046e-01  -4.06231396e-01\n",
      "   1.62313391e-02  -2.35865078e-02  -2.95153950e-01  -1.06412990e-01\n",
      "  -1.02495300e-01  -2.20812240e-02   8.48546028e-02  -5.30954157e-02\n",
      "  -7.67577103e-01   8.60608692e-03   3.37723527e-01  -1.07417577e-01\n",
      "   1.03584348e-01  -2.48235166e-01  -9.87000736e-02  -1.85862702e-01\n",
      "  -2.70304749e-01  -1.10693115e-01  -2.42253208e-01  -3.38887839e-01\n",
      "  -1.19663963e-01   3.30996806e-01   2.86196450e-01   2.42334202e-02\n",
      "  -5.31855298e-01  -6.45690139e-01   9.03334810e-02   1.57559067e-01\n",
      "   1.99899874e-01  -2.94554853e-01   4.51343183e-01  -2.19333107e-01\n",
      "  -8.82079572e-02   6.41301197e-01   4.12721208e-03   3.74015579e-01\n",
      "  -2.94287545e-01  -1.34231820e+00   1.86329145e-01  -1.30944629e-01\n",
      "   4.11208282e-01  -5.86923231e-01   3.62182667e-01   7.64733088e-02\n",
      "  -7.73485329e-02  -5.47420606e-01   3.42319712e-01   3.00290952e-01\n",
      "  -4.00393810e-02   1.77122591e-01  -2.89522349e-01  -1.87859241e-01\n",
      "  -4.70570527e-02  -3.98226693e-01   2.27759890e-01  -2.64757440e-01\n",
      "  -3.66585959e-03   3.95530417e-01  -3.30176850e-01   8.17801503e-02\n",
      "  -4.67691724e-01  -7.17482071e-02   1.15256225e-01   2.14356683e-01\n",
      "   3.59124444e-01   1.37096022e-01  -8.39023265e-02   1.52251983e-01\n",
      "  -1.31470204e-01   1.87037754e-03   3.42225794e-01   4.42026404e-01\n",
      "  -1.02761757e-01   6.82626548e-01   4.85505463e-01   1.40545516e-01\n",
      "  -8.81802577e-02  -2.72416589e-01   6.51929494e-02   4.46349849e-01\n",
      "  -6.99242014e-02  -4.55881880e-02   2.72126971e-01  -1.86215377e-01\n",
      "   5.16805836e-01  -1.50936255e-01   3.24616139e-01  -3.54330241e-01\n",
      "   2.92880617e-01   3.07834899e-01  -1.19796042e-01  -4.97140126e-01\n",
      "  -6.50656867e-02   8.11949993e-02  -1.36696695e-01  -2.28993291e-01\n",
      "  -4.65805974e-01   2.58916105e-01   3.34734065e-01   8.15003045e-02\n",
      "  -3.88628730e-01   2.90195715e-01  -2.00537072e-01   3.16641282e-01\n",
      "   3.76275267e-01   2.25307473e-01  -8.25644883e-01  -1.17737022e-01\n",
      "  -3.25784712e-01   1.83785984e-01  -4.81007264e-01   4.84709555e-01\n",
      "   7.45989079e-01   5.46936575e-01   5.54470583e-02   1.12891037e-01\n",
      "  -1.95904934e-01  -4.03151941e-01  -1.94874601e-01  -5.45827360e-02\n",
      "   9.65630401e-03   4.94449676e-02   2.21705776e-01  -2.83146855e-01\n",
      "   1.97501772e-01   6.82851001e-01  -3.11278640e-01   2.73900196e-01\n",
      "  -9.73565219e-01  -5.25479373e-01   4.13720902e-01  -5.64078483e-01\n",
      "  -4.35823337e-01  -1.77362469e-01  -9.26459417e-02   4.99975953e-02\n",
      "  -2.89340257e-01   6.77064087e-02   2.70193024e-01   2.11779566e-01\n",
      "   1.79653562e-01  -4.55895311e-01   6.67810259e-02   1.99333900e-02\n",
      "  -2.12967910e-01   3.98985153e-01   2.65039203e-01   1.15128749e-02\n",
      "  -3.06021954e-01  -1.84552234e-01   4.34203379e-01   2.05657011e-01\n",
      "  -1.66409063e-01   1.14673469e-01   5.79626637e-01   3.60134924e-01\n",
      "  -6.88378327e-04   8.87137691e-02   8.44757312e-02  -5.26866671e-01\n",
      "   3.14258120e-01   1.71788295e-02  -1.94288127e-01  -8.21873775e-01\n",
      "   3.32064882e-01  -2.69367800e-01   1.91294568e-01   1.86122633e-01\n",
      "  -1.66030567e-01   1.96923792e-01   1.01773958e+00  -2.87306201e-01\n",
      "   4.23096544e-01  -4.76785119e-01   3.73068365e-02  -1.30915550e-01\n",
      "  -2.48640469e-01  -1.26943119e-01  -2.59707157e-01  -1.76536506e-01\n",
      "  -7.26011020e-02  -3.43369877e-01  -4.18457601e-02  -2.77698362e-01\n",
      "  -1.73016365e-01  -1.16043954e-01   6.62988687e-01  -4.12101379e-02\n",
      "  -2.16641370e-01  -8.75759105e-02   2.57786061e-01   5.62103277e-01\n",
      "  -2.55464006e-01  -4.75501745e-01   1.33754859e-01   2.50001765e-01\n",
      "  -8.80182948e-01   4.97424958e-02   3.78725725e-01   2.78792441e-01\n",
      "  -2.87207731e-01  -1.00146590e-02   7.60705691e-01  -2.35729549e-01\n",
      "   1.41759129e-01   4.84519654e-01  -8.84465361e-02]\n",
      "\n",
      "Rmse for baseline predictor is:  0.9664817838879254\n",
      "\n"
     ]
    }
   ],
   "source": [
    "########################################  Estimating mu, b_u, b_i and mse  ######################################################\n",
    "\n",
    "b_i = np.zeros(1682, dtype = np.float)\n",
    "b_u = np.zeros(943, dtype = np.float)\n",
    "\n",
    "tot = 0\n",
    "mu = 0\n",
    "count = 0\n",
    "lamda2 = 25 \n",
    "lamda3 = 10\n",
    "\n",
    "#calculating mu\n",
    "for i in range(0, 943):\n",
    "    for j in range(0, 1682):\n",
    "        if(ua_base[i][j] !=0):\n",
    "            count= count+1\n",
    "            tot+=ua_base[i][j]\n",
    "mu = float(tot/count)\n",
    "print (\"mu is: \", mu)\n",
    "print (\"\")\n",
    "\n",
    "#calculating b_i\n",
    "for i in range(0, 1682):\n",
    "    r_i = 0\n",
    "    num = 0;\n",
    "    for j in range(0, 943):\n",
    "        if(ua_base[j][i]!=0):\n",
    "            num = num+ (ua_base[j][i]- mu)\n",
    "            r_i = r_i+1\n",
    "    b_i[i] =float((num)/(r_i+ lamda2))\n",
    "print (\"b_i is: \", b_i)\n",
    "print (\"\")\n",
    "\n",
    "#calculating b_u\n",
    "for i in range(0, 943):\n",
    "    r_u = 0\n",
    "    num = 0;\n",
    "    for j in range(0, 1682):\n",
    "        if(ua_base[i][j]!=0):\n",
    "            num = num+ (ua_base[i][j]- mu - b_i[j])\n",
    "            r_u = r_u+1\n",
    "    b_u[i] = float((num)/(r_u+ lamda3))  \n",
    "print (\"b_u is: \", b_u)\n",
    "print (\"\")\n",
    "\n",
    "total_ct = 0\n",
    "numerator = 0\n",
    "\n",
    "#applying baseline prediction to find error\n",
    "pred = np.zeros((943,1682),dtype=np.float)\n",
    "for i in range(0, 943):\n",
    "    for j in range(0, 1682):\n",
    "        if(ua_test[i][j]!=0):\n",
    "            total_ct = total_ct+1\n",
    "            val = mu + b_u[i] + b_i[j]\n",
    "            pred[i][j] = val\n",
    "            numerator = numerator + ((val - ua_test[i][j])**2)\n",
    "err = float(numerator/total_ct)\n",
    "rmse = math.sqrt(err)\n",
    "print (\"Rmse for baseline predictor is: \", rmse)\n",
    "print (\"\")"
   ]
  },
  {
   "cell_type": "code",
   "execution_count": 10,
   "metadata": {
    "collapsed": true
   },
   "outputs": [],
   "source": [
    "#################################  Calculate User Average Rating & Item Average Rating ##########################################\n",
    "\n",
    "user_avg_rating = [0]*943\n",
    "for i in range(0,943):\n",
    "    count = 0\n",
    "    total=0\n",
    "    for j in range(0,1682):\n",
    "        if(ua_base[i][j]!=0):\n",
    "            count=count+1\n",
    "            total+=ua_base[i][j]\n",
    "    user_avg_rating[i]=total/count\n",
    "\n",
    "hist,bins = np.histogram(user_avg_rating,bins=5)\n",
    "bin1 = [0]*5\n",
    "for i in range(0,len(bins)-1):\n",
    "    bin1[i] = (float)(bins[i]+bins[i+1]) / 2.0\n",
    "    \n",
    "avg_item_rating = [0] * 1682\n",
    "for j in range (0, 1682):\n",
    "    count = 0;\n",
    "    total = 0;\n",
    "    for i in range(0, 943):\n",
    "        if(ua_base[i][j]!=0):\n",
    "            count = count + 1\n",
    "            total +=ua_base[i][j]\n",
    "    if(count!=0):\n",
    "        avg_item_rating[j] = float(total/count)"
   ]
  },
  {
   "cell_type": "code",
   "execution_count": 21,
   "metadata": {
    "collapsed": false
   },
   "outputs": [
    {
     "name": "stdout",
     "output_type": "stream",
     "text": [
      "Plotting RMSE per user\n"
     ]
    },
    {
     "data": {
      "image/png": "[encoded data removed]",
      "text/plain": [
       "<matplotlib.figure.Figure at 0x107557e80>"
      ]
     },
     "metadata": {},
     "output_type": "display_data"
    }
   ],
   "source": [
    "################################################  Plotting RMSE per user  #######################################################\n",
    "\n",
    "print (\"Plotting RMSE per user\")\n",
    "user_rmse, user_count = get_user_rmse(pred)\n",
    "plotting = get_plotting(user_avg_rating, user_rmse, user_count)\n",
    "plt.bar(bin1,plotting,width = 0.5)\n",
    "plt.show()"
   ]
  },
  {
   "cell_type": "code",
   "execution_count": 12,
   "metadata": {
    "collapsed": true
   },
   "outputs": [],
   "source": [
    "#########################################  Part 3: Building KNN Based Recommender System  #######################################"
   ]
  },
  {
   "cell_type": "code",
   "execution_count": 13,
   "metadata": {
    "collapsed": false
   },
   "outputs": [
    {
     "name": "stdout",
     "output_type": "stream",
     "text": [
      "Finding Similarity matrix\n"
     ]
    }
   ],
   "source": [
    "#################################################  Finding Similarity Matrix  ###################################################\n",
    "\n",
    "print (\"Finding Similarity matrix\")\n",
    "#create similarity matrix\n",
    "sim = np.zeros((1682, 1682), dtype = np.float)\n",
    "for i in range(0, 943):\n",
    "    #print (i)\n",
    "    for j in range(0, 1682):\n",
    "        num = 0\n",
    "        denom_1 = 0\n",
    "        denom_2 = 0\n",
    "        for u in range(0, 943):\n",
    "            if((ua_base[u][i] !=0 )& (ua_base[u][j]!=0)):\n",
    "                #proceed\n",
    "                num += (ua_base[u][i]-avg_item_rating[i])* (ua_base[u][j]-avg_item_rating[j])\n",
    "                denom_1 += (ua_base[u][i] - avg_item_rating[i])**2\n",
    "                denom_2 += (ua_base[u][j] - avg_item_rating[j])**2\n",
    "        if((num!=0)& (denom_1!=0) & (denom_2!=0)):\n",
    "            sim[i][j] = float(num / (math.sqrt(denom_1) * math.sqrt(denom_2)))"
   ]
  },
  {
   "cell_type": "code",
   "execution_count": 18,
   "metadata": {
    "collapsed": false
   },
   "outputs": [
    {
     "name": "stdout",
     "output_type": "stream",
     "text": [
      "k is 1\n",
      "Rmse is:  1.4727284033925152\n",
      "k is 2\n",
      "Rmse is:  1.4094439838405446\n",
      "k is 3\n",
      "Rmse is:  1.356301814839689\n",
      "k is 5\n",
      "Rmse is:  1.2937979144666532\n",
      "k is 10\n",
      "Rmse is:  1.334110766632895\n"
     ]
    }
   ],
   "source": [
    "###############################################  Computing Test RMSE for each K  ################################################\n",
    "\n",
    "predict_k_1 = np.zeros((943, 1682), dtype=np.int)\n",
    "predict_k_2 = np.zeros((943, 1682), dtype=np.int)\n",
    "predict_k_3 = np.zeros((943, 1682), dtype=np.int)\n",
    "predict_k_5 = np.zeros((943, 1682), dtype=np.int)\n",
    "predict_k_10 = np.zeros((943, 1682), dtype=np.int)\n",
    "\n",
    "print (\"k is\", 1)\n",
    "predict_k_1, rmse = getSimForK(1,ua_test, total_ct)\n",
    "print (\"Rmse is: \",rmse)\n",
    "\n",
    "print (\"k is\", 2)\n",
    "predict_k_2, rmse = getSimForK(2,ua_test, total_ct)\n",
    "print (\"Rmse is: \",rmse)\n",
    "\n",
    "print (\"k is\", 3)\n",
    "predict_k_3, rmse = getSimForK(3,ua_test, total_ct)\n",
    "print (\"Rmse is: \",rmse)\n",
    "\n",
    "print (\"k is\", 5)\n",
    "predict_k_5, rmse = getSimForK(5,ua_test, total_ct)\n",
    "print (\"Rmse is: \",rmse)\n",
    "\n",
    "print (\"k is\", 10)\n",
    "predict_k_10, rmse = getSimForK(10,ua_test, total_ct)\n",
    "print (\"Rmse is: \",rmse)"
   ]
  },
  {
   "cell_type": "code",
   "execution_count": 20,
   "metadata": {
    "collapsed": false
   },
   "outputs": [
    {
     "name": "stdout",
     "output_type": "stream",
     "text": [
      "Plotting RMSE per user for k=1\n"
     ]
    },
    {
     "data": {
      "image/png": "[encoded data removed]",
      "text/plain": [
       "<matplotlib.figure.Figure at 0x107557748>"
      ]
     },
     "metadata": {},
     "output_type": "display_data"
    },
    {
     "name": "stdout",
     "output_type": "stream",
     "text": [
      "Plotting RMSE per user for k=2\n"
     ]
    },
    {
     "data": {
      "image/png": "[encoded data removed]",
      "text/plain": [
       "<matplotlib.figure.Figure at 0x107897978>"
      ]
     },
     "metadata": {},
     "output_type": "display_data"
    },
    {
     "name": "stdout",
     "output_type": "stream",
     "text": [
      "Plotting RMSE per user for k=3\n"
     ]
    },
    {
     "data": {
      "image/png": "[encoded data removed]",
      "text/plain": [
       "<matplotlib.figure.Figure at 0x1078b37b8>"
      ]
     },
     "metadata": {},
     "output_type": "display_data"
    },
    {
     "name": "stdout",
     "output_type": "stream",
     "text": [
      "Plotting RMSE per user for k=5\n"
     ]
    },
    {
     "data": {
      "image/png": "[encoded data removed]",
      "text/plain": [
       "<matplotlib.figure.Figure at 0x107b0cb70>"
      ]
     },
     "metadata": {},
     "output_type": "display_data"
    },
    {
     "name": "stdout",
     "output_type": "stream",
     "text": [
      "Plotting RMSE per user for k=10\n"
     ]
    },
    {
     "data": {
      "image/png": "[encoded data removed]",
      "text/plain": [
       "<matplotlib.figure.Figure at 0x1095dcd30>"
      ]
     },
     "metadata": {},
     "output_type": "display_data"
    }
   ],
   "source": [
    "################################################### Plotting RMSE per user  #####################################################\n",
    "\n",
    "print (\"Plotting RMSE per user for k=1\")\n",
    "user_rmse, user_count = get_user_rmse(predict_k_1)\n",
    "plotting = get_plotting(user_avg_rating, user_rmse, user_count)\n",
    "plt.bar(bin1,plotting,width = 0.5)\n",
    "plt.show()\n",
    "\n",
    "print (\"Plotting RMSE per user for k=2\")\n",
    "user_rmse, user_count = get_user_rmse(predict_k_2)\n",
    "plotting = get_plotting(user_avg_rating, user_rmse, user_count)\n",
    "plt.bar(bin1,plotting,width = 0.5)\n",
    "plt.show()\n",
    "\n",
    "print (\"Plotting RMSE per user for k=3\")\n",
    "user_rmse, user_count = get_user_rmse(predict_k_3)\n",
    "plotting = get_plotting(user_avg_rating, user_rmse, user_count)\n",
    "plt.bar(bin1,plotting,width = 0.5)\n",
    "plt.show()\n",
    "\n",
    "print (\"Plotting RMSE per user for k=5\")\n",
    "user_rmse, user_count = get_user_rmse(predict_k_5)\n",
    "plotting = get_plotting(user_avg_rating, user_rmse, user_count)\n",
    "plt.bar(bin1,plotting,width = 0.5)\n",
    "plt.show()\n",
    "\n",
    "print (\"Plotting RMSE per user for k=10\")\n",
    "user_rmse, user_count = get_user_rmse(predict_k_10)\n",
    "plotting = get_plotting(user_avg_rating, user_rmse, user_count)\n",
    "plt.bar(bin1,plotting,width = 0.5)\n",
    "plt.show()"
   ]
  },
  {
   "cell_type": "markdown",
   "metadata": {},
   "source": [
    "REPORT\n",
    "\n",
    "This part of the assignment deals with the movielens dataset. I had to build two recommender systems, one using a baseline predictor and the other using KNN with K=5.\n",
    "\n",
    "First I had to create histograms of number of ratings for a movie. The X-axis denotes the number of ratings that movies have received and the Y-axis denotes the number of movies that have got those ratings. \n",
    "Next I had to create histograms of number of ratings by a user. The X-axis denotes the number of ratings given by users and the Y-axis denotes the number of users who gave those ratings. Since, on an average, users don't rate too many movies, the lower bins have higher number of users and that reduces as bins increase.\n",
    "\n",
    "The baseline recommender system that was built used the values of mu, b_i and b_u that were predicted empirically. The RMSE was then calculated. A plot of RMSE per user was created. The X-axis here denoted range of ratings that were predicted by the system and the Y-axis denoted the total RMSE of all the users who rated within that range. I divided the range of ratings into 5 bins.\n",
    "\n",
    "The KNN based recommender system that was built used a similarity matrix calculated between similar items. The RMSE was then calculated for different values of k, k=1,2,3,5,10. A plot of RMSE per user was created for each k. The X-axis here denoted range of ratings that were predicted by the system and the Y-axis denoted the total RMSE of all the users who rated within that range. I divided the range of ratings into 5 bins. There are 5 plots for each of the k."
   ]
  }
 ],
 "metadata": {
  "kernelspec": {
   "display_name": "Python 3",
   "language": "python",
   "name": "python3"
  },
  "language_info": {
   "codemirror_mode": {
    "name": "ipython",
    "version": 3
   },
   "file_extension": ".py",
   "mimetype": "text/x-python",
   "name": "python",
   "nbconvert_exporter": "python",
   "pygments_lexer": "ipython3",
   "version": "3.4.3"
  }
 },
 "nbformat": 4,
 "nbformat_minor": 1
}
